{
 "cells": [
  {
   "cell_type": "code",
   "execution_count": null,
   "id": "dd919189-f0a3-4356-ba37-c80ffc4f99f3",
   "metadata": {},
   "outputs": [],
   "source": [
    "#Ans 1\n",
    "Elastic net regression is a linear regression technique that uses a penalty term to shrink the coefficients of the predictors.\n",
    "\n",
    "Elastic Net Regression combines these two penalties to strike a balance between feature selection (like Lasso) and coefficient shrinkage (like Ridge). It adds both L1 and L2 penalty terms to the objective function, controlled by two hyperparameters: alpha and lambda"
   ]
  },
  {
   "cell_type": "code",
   "execution_count": null,
   "id": "1c6ab78d-6696-435a-b5a2-ce0af5d7ac60",
   "metadata": {},
   "outputs": [],
   "source": [
    "#Ans 2\n",
    "\n",
    "We choose the optimal values of the regularization parameters for Elastic Net Regression.\n",
    "(1)Grid Search \n",
    "(2)Random Search \n",
    "(3)Cross Validation\n",
    "(4)Model Based Optimization\n",
    "(5)Automated Hyperparameter Tuning Libraries"
   ]
  },
  {
   "cell_type": "code",
   "execution_count": null,
   "id": "4d906990-9b0e-47e5-afce-5114fb3d5ed8",
   "metadata": {},
   "outputs": [],
   "source": [
    "#Ans 3\n",
    "\n",
    "Advantage-\n",
    "(1)Feature Selection\n",
    "(2)Handling Correlated Predictors\n",
    "(3)Flexibility in Regularization\n",
    "(4)Robustness\n",
    "\n",
    "Disadvantage-\n",
    "(1) Increased Complexity\n",
    "(2)Hyperparameter Tuning \n",
    "(3)Less Sparse Solution\n",
    "(4)Limited Interpretability"
   ]
  },
  {
   "cell_type": "code",
   "execution_count": null,
   "id": "2e8b826a-9fc4-4aa8-aee4-1601e4cd5956",
   "metadata": {},
   "outputs": [],
   "source": [
    "#Ans 4\n",
    "Some common use cases for Elastic Net Regression include:\n",
    "High-Dimensional Data\n",
    "Multicollinearity\n",
    "Outliers Robustness\n",
    "Predictive Modeling\n",
    "Feature Engineering\n",
    "Interpretable Model"
   ]
  },
  {
   "cell_type": "code",
   "execution_count": null,
   "id": "de49a021-7bad-4455-982d-f39e42a5b24a",
   "metadata": {},
   "outputs": [],
   "source": [
    "#Ans 5\n",
    "We interpret the coefficients in Elastic Net Regression:\n",
    "Nonzero Coefficients\n",
    "Magnitude of Coefficients\n",
    "Feature Selection\n",
    "Coefficient Stability\n",
    "Hyperparameter Sensitivity"
   ]
  },
  {
   "cell_type": "code",
   "execution_count": null,
   "id": "95c29ab0-3a86-4b84-9dd2-3f63510bd388",
   "metadata": {},
   "outputs": [],
   "source": [
    "#Ans 6 \n",
    "\n",
    "We handel missing value when using elastic net regression-\n",
    "Dropping Rows\n",
    "Dropping Columns\n",
    "Imputation\n",
    "Indicator Variable\n",
    "Model Based Imputation"
   ]
  },
  {
   "cell_type": "code",
   "execution_count": null,
   "id": "e71efad5-afac-470f-ad4e-7629563186ad",
   "metadata": {},
   "outputs": [],
   "source": [
    "#Ans 7\n",
    "We can use Elastic Net Regression for feature selection:\n",
    "Standardize the data\n",
    "Fit the elastic net regression model \n",
    "Adjust the regularization parameters\n",
    "identify selected features\n",
    "Further refine the feature set\n"
   ]
  },
  {
   "cell_type": "code",
   "execution_count": null,
   "id": "9ba4f074-d614-4bdd-ac90-54fcfe4a82b3",
   "metadata": {},
   "outputs": [],
   "source": [
    "#Ans 8 \n",
    "\n",
    "import pickle\n",
    "\n",
    "model = ...  # Your trained model\n",
    "\n",
    "# Save the model to a file\n",
    "with open('elastic_net_model.pkl', 'wb') as file:\n",
    "    pickle.dump(model, file)\n"
   ]
  },
  {
   "cell_type": "code",
   "execution_count": null,
   "id": "2e500834-87ad-4933-977e-7a407a35430d",
   "metadata": {},
   "outputs": [],
   "source": [
    "import pickle\n",
    "\n",
    "with open('elastic_net_model.pkl', 'rb') as file:\n",
    "    model = pickle.load(file)\n",
    "\n"
   ]
  },
  {
   "cell_type": "code",
   "execution_count": null,
   "id": "e5c239b3-b9d7-4dae-8f3e-9d4b334e54d9",
   "metadata": {},
   "outputs": [],
   "source": [
    "#Ans 9\n",
    "Picking a model provides a several benifits:\n",
    "presistence\n",
    "reusablity\n",
    "sharing and deployment\n",
    "reproducubility\n",
    "scalability\n",
    "flexibility"
   ]
  }
 ],
 "metadata": {
  "kernelspec": {
   "display_name": "Python 3 (ipykernel)",
   "language": "python",
   "name": "python3"
  },
  "language_info": {
   "codemirror_mode": {
    "name": "ipython",
    "version": 3
   },
   "file_extension": ".py",
   "mimetype": "text/x-python",
   "name": "python",
   "nbconvert_exporter": "python",
   "pygments_lexer": "ipython3",
   "version": "3.10.8"
  }
 },
 "nbformat": 4,
 "nbformat_minor": 5
}
